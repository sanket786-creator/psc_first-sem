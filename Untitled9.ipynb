{
 "cells": [
  {
   "cell_type": "code",
   "execution_count": 3,
   "id": "349d4d72-d63e-48ae-83e2-deac56594cd9",
   "metadata": {},
   "outputs": [],
   "source": [
    "name=\"sanket gavkari\""
   ]
  },
  {
   "cell_type": "code",
   "execution_count": 4,
   "id": "a3d9a23a-69b5-40f1-bad8-f08f4427c423",
   "metadata": {},
   "outputs": [
    {
     "data": {
      "text/plain": [
       "'sanket gavkari'"
      ]
     },
     "execution_count": 4,
     "metadata": {},
     "output_type": "execute_result"
    }
   ],
   "source": [
    "name"
   ]
  },
  {
   "cell_type": "code",
   "execution_count": 13,
   "id": "a3f55fe8-37e2-4fa9-8e5f-6267fca42cb0",
   "metadata": {},
   "outputs": [
    {
     "data": {
      "text/plain": [
       "'s@a@n@k@e@t@ @g@a@v@k@a@r@i'"
      ]
     },
     "execution_count": 13,
     "metadata": {},
     "output_type": "execute_result"
    }
   ],
   "source": [
    "\"@\".join(name)"
   ]
  },
  {
   "cell_type": "code",
   "execution_count": 14,
   "id": "52a97013-c41a-4aa2-bd23-078dc810d019",
   "metadata": {},
   "outputs": [],
   "source": [
    "d=574356"
   ]
  },
  {
   "cell_type": "code",
   "execution_count": 18,
   "id": "13fa9ab3-3f87-4c83-a7b7-a94b72f79cb1",
   "metadata": {},
   "outputs": [
    {
     "data": {
      "text/plain": [
       "True"
      ]
     },
     "execution_count": 18,
     "metadata": {},
     "output_type": "execute_result"
    }
   ],
   "source": [
    "d.is_integer()"
   ]
  },
  {
   "cell_type": "code",
   "execution_count": 19,
   "id": "6fe080d4-f519-4a94-b6ea-f397df685a3e",
   "metadata": {},
   "outputs": [],
   "source": [
    "name=\"sanket5243\""
   ]
  },
  {
   "cell_type": "code",
   "execution_count": 21,
   "id": "78ea70c6-513f-4c25-801a-457eb6e044e1",
   "metadata": {},
   "outputs": [
    {
     "data": {
      "text/plain": [
       "'sanket5243'"
      ]
     },
     "execution_count": 21,
     "metadata": {},
     "output_type": "execute_result"
    }
   ],
   "source": [
    "name"
   ]
  },
  {
   "cell_type": "code",
   "execution_count": 22,
   "id": "bf69f03a-7934-4cfc-ab03-db7bbf582b2f",
   "metadata": {},
   "outputs": [
    {
     "data": {
      "text/plain": [
       "True"
      ]
     },
     "execution_count": 22,
     "metadata": {},
     "output_type": "execute_result"
    }
   ],
   "source": [
    "name.isalnum()"
   ]
  },
  {
   "cell_type": "code",
   "execution_count": 23,
   "id": "ced61c69-8ecf-4782-924f-f1d755fe3458",
   "metadata": {},
   "outputs": [
    {
     "data": {
      "text/plain": [
       "False"
      ]
     },
     "execution_count": 23,
     "metadata": {},
     "output_type": "execute_result"
    }
   ],
   "source": [
    "name.startswith(\"a\")"
   ]
  },
  {
   "cell_type": "code",
   "execution_count": 24,
   "id": "0c3de216-a776-4674-afac-64db082d99b4",
   "metadata": {},
   "outputs": [],
   "source": [
    "name=\"sanket\""
   ]
  },
  {
   "cell_type": "code",
   "execution_count": 25,
   "id": "ae7e12ed-1432-4af6-b356-150d972769d1",
   "metadata": {},
   "outputs": [
    {
     "data": {
      "text/plain": [
       "'sanket'"
      ]
     },
     "execution_count": 25,
     "metadata": {},
     "output_type": "execute_result"
    }
   ],
   "source": [
    "name"
   ]
  },
  {
   "cell_type": "code",
   "execution_count": 26,
   "id": "76ec5b1c-8c49-4b5e-9475-df4a5995d864",
   "metadata": {},
   "outputs": [
    {
     "data": {
      "text/plain": [
       "'teknas'"
      ]
     },
     "execution_count": 26,
     "metadata": {},
     "output_type": "execute_result"
    }
   ],
   "source": [
    "\"\".join(reversed(name))"
   ]
  },
  {
   "cell_type": "code",
   "execution_count": null,
   "id": "abefc84b-b3d1-4faf-952d-87c381957d59",
   "metadata": {},
   "outputs": [],
   "source": [
    "                                                                                                                                                                                                                                                                                                                                                                                                  "
   ]
  }
 ],
 "metadata": {
  "kernelspec": {
   "display_name": "Python 3 (ipykernel)",
   "language": "python",
   "name": "python3"
  },
  "language_info": {
   "codemirror_mode": {
    "name": "ipython",
    "version": 3
   },
   "file_extension": ".py",
   "mimetype": "text/x-python",
   "name": "python",
   "nbconvert_exporter": "python",
   "pygments_lexer": "ipython3",
   "version": "3.12.4"
  }
 },
 "nbformat": 4,
 "nbformat_minor": 5
}
