{
 "cells": [
  {
   "cell_type": "code",
   "execution_count": 4,
   "id": "c5997207-def5-453b-a8bc-0090a7067eed",
   "metadata": {},
   "outputs": [],
   "source": [
    "s=\"this is My First Python programming class and i am learNING python string and its function\""
   ]
  },
  {
   "cell_type": "code",
   "execution_count": 5,
   "id": "81d16255-de34-40a1-b1e0-36709f42e42a",
   "metadata": {},
   "outputs": [
    {
     "data": {
      "text/plain": [
       "'this is My First Python programming class and i am learNING python string and its function'"
      ]
     },
     "execution_count": 5,
     "metadata": {},
     "output_type": "execute_result"
    }
   ],
   "source": [
    "s"
   ]
  },
  {
   "cell_type": "code",
   "execution_count": 12,
   "id": "3dec3198-106e-4d67-9474-cd14be88c930",
   "metadata": {},
   "outputs": [
    {
     "data": {
      "text/plain": [
       "'h   r tnrrmglsnimeNGyosi dtfco'"
      ]
     },
     "execution_count": 12,
     "metadata": {},
     "output_type": "execute_result"
    }
   ],
   "source": [
    "s[1:301:3]"
   ]
  },
  {
   "cell_type": "code",
   "execution_count": 7,
   "id": "2eb3a717-f7a7-4381-b678-c7e750ea32a6",
   "metadata": {},
   "outputs": [
    {
     "data": {
      "text/plain": [
       "'noitcnuf sti dna gnirts nohtyp GNINrael ma i dna ssalc gnimmargorp nohtyP tsriF yM si siht'"
      ]
     },
     "execution_count": 7,
     "metadata": {},
     "output_type": "execute_result"
    }
   ],
   "source": [
    "s[::-1]"
   ]
  },
  {
   "cell_type": "code",
   "execution_count": 16,
   "id": "5cd42d47-8ec9-45d7-8008-6bff82dc030e",
   "metadata": {},
   "outputs": [
    {
     "data": {
      "text/plain": [
       "['THIS',\n",
       " 'IS',\n",
       " 'MY',\n",
       " 'FIRST',\n",
       " 'PYTHON',\n",
       " 'PROGRAMMING',\n",
       " 'CLASS',\n",
       " 'AND',\n",
       " 'I',\n",
       " 'AM',\n",
       " 'LEARNING',\n",
       " 'PYTHON',\n",
       " 'STRING',\n",
       " 'AND',\n",
       " 'ITS',\n",
       " 'FUNCTION']"
      ]
     },
     "execution_count": 16,
     "metadata": {},
     "output_type": "execute_result"
    }
   ],
   "source": [
    "s.upper().split()"
   ]
  },
  {
   "cell_type": "markdown",
   "id": "4189daf2-8221-4c12-8450-a746e5575e22",
   "metadata": {},
   "source": [
    "#  try to lower the sentence"
   ]
  },
  {
   "cell_type": "code",
   "execution_count": 10,
   "id": "826c7763-8593-4505-8248-b614332f6b11",
   "metadata": {},
   "outputs": [
    {
     "data": {
      "text/plain": [
       "'this is my first python programming class and i am learning python string and its function'"
      ]
     },
     "execution_count": 10,
     "metadata": {},
     "output_type": "execute_result"
    }
   ],
   "source": [
    "s.lower()"
   ]
  },
  {
   "cell_type": "code",
   "execution_count": 11,
   "id": "a96a79f0-1cb0-49c9-aca1-02b7972c5114",
   "metadata": {},
   "outputs": [
    {
     "data": {
      "text/plain": [
       "'This is my first python programming class and i am learning python string and its function'"
      ]
     },
     "execution_count": 11,
     "metadata": {},
     "output_type": "execute_result"
    }
   ],
   "source": [
    "s.capitalize()"
   ]
  },
  {
   "cell_type": "code",
   "execution_count": null,
   "id": "3b33aeb6-0c1e-47f5-8c93-4c40ec733a2e",
   "metadata": {},
   "outputs": [],
   "source": [
    "#isalnum gives all the characters in the string are alphabets and isalnum gives all the characters in the string are either alphabet and numbers"
   ]
  },
  {
   "cell_type": "markdown",
   "id": "c1da43b0-64a6-4a04-8b30-3374a4ba4913",
   "metadata": {},
   "source": [
    "#  alpha gives the value as true if all character are alphabets and alnum gives the value true if all charecters are alphabet and number"
   ]
  },
  {
   "cell_type": "code",
   "execution_count": 17,
   "id": "8fd485c3-4460-42b7-8481-0425f7f51c6c",
   "metadata": {},
   "outputs": [],
   "source": [
    "t=\"sanket\"\n",
    "s1=456566\n",
    "s3=\"san456\""
   ]
  },
  {
   "cell_type": "code",
   "execution_count": 20,
   "id": "f67a7995-769a-4531-872f-939c1ca9e2f6",
   "metadata": {},
   "outputs": [
    {
     "data": {
      "text/plain": [
       "True"
      ]
     },
     "execution_count": 20,
     "metadata": {},
     "output_type": "execute_result"
    }
   ],
   "source": [
    "t.isalpha()"
   ]
  },
  {
   "cell_type": "markdown",
   "id": "52fb6b84-5211-4f0b-9bd3-d2514100c60f",
   "metadata": {},
   "source": [
    "#  Give an example of strip,lstrip and rstrip"
   ]
  },
  {
   "cell_type": "code",
   "execution_count": 36,
   "id": "1efc1da0-37f7-4cec-89c5-c9d4869f9cb2",
   "metadata": {},
   "outputs": [
    {
     "data": {
      "text/plain": [
       "'hey!! sanket'"
      ]
     },
     "execution_count": 36,
     "metadata": {},
     "output_type": "execute_result"
    }
   ],
   "source": [
    "#1 example of strip:\n",
    "a1=\"@@@22@hey!! sanket@2@@@\"\n",
    "a1.strip(\"@2\")#remove all @2only from the right side"
   ]
  },
  {
   "cell_type": "code",
   "execution_count": 37,
   "id": "0b056087-b7dc-4525-b03b-03d517613435",
   "metadata": {},
   "outputs": [
    {
     "data": {
      "text/plain": [
       "'hey!! sanket@2@@@'"
      ]
     },
     "execution_count": 37,
     "metadata": {},
     "output_type": "execute_result"
    }
   ],
   "source": [
    "#2  example of lstrip:\n",
    "a1=\"@@@22@hey!! sanket@2@@@\"\n",
    "a1.lstrip(\"@2\") #remove all @2 only from the left side"
   ]
  },
  {
   "cell_type": "code",
   "execution_count": 38,
   "id": "9c74a403-de4c-4a2e-88c8-58097e09d058",
   "metadata": {},
   "outputs": [
    {
     "data": {
      "text/plain": [
       "'@@@222hey!! sanket'"
      ]
     },
     "execution_count": 38,
     "metadata": {},
     "output_type": "execute_result"
    }
   ],
   "source": [
    "#3 ex of rstrip:\n",
    "a2=\"@@@222hey!! sanket@2@@@\"\n",
    "a2.rstrip(\"@2\")"
   ]
  },
  {
   "cell_type": "code",
   "execution_count": null,
   "id": "297a07cb-42c7-41e8-9efd-72cd512ccc4a",
   "metadata": {},
   "outputs": [],
   "source": []
  }
 ],
 "metadata": {
  "kernelspec": {
   "display_name": "Python 3 (ipykernel)",
   "language": "python",
   "name": "python3"
  },
  "language_info": {
   "codemirror_mode": {
    "name": "ipython",
    "version": 3
   },
   "file_extension": ".py",
   "mimetype": "text/x-python",
   "name": "python",
   "nbconvert_exporter": "python",
   "pygments_lexer": "ipython3",
   "version": "3.12.4"
  }
 },
 "nbformat": 4,
 "nbformat_minor": 5
}
