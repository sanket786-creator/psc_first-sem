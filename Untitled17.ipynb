{
 "cells": [
  {
   "cell_type": "markdown",
   "id": "994df868-85d8-4cf3-8f92-b835318b7215",
   "metadata": {},
   "source": [
    "#  definition of string center function"
   ]
  },
  {
   "cell_type": "code",
   "execution_count": 3,
   "id": "0e0d5c77-7010-44d8-8ffd-5ea8a29f0f27",
   "metadata": {},
   "outputs": [],
   "source": [
    "#the center() function in python is string method that returns a new string with the original string centered within a specified width. "
   ]
  },
  {
   "cell_type": "code",
   "execution_count": 4,
   "id": "16018d5a-8dac-4cfb-871b-c566558ce9ad",
   "metadata": {},
   "outputs": [],
   "source": [
    "name=\"sanket\""
   ]
  },
  {
   "cell_type": "code",
   "execution_count": 6,
   "id": "7ab17d17-dbed-483d-a11b-3cf6e52e3af1",
   "metadata": {},
   "outputs": [
    {
     "data": {
      "text/plain": [
       "'sanket'"
      ]
     },
     "execution_count": 6,
     "metadata": {},
     "output_type": "execute_result"
    }
   ],
   "source": [
    "name"
   ]
  },
  {
   "cell_type": "code",
   "execution_count": 7,
   "id": "8cdc6c1a-7657-4def-a984-510136217a48",
   "metadata": {},
   "outputs": [
    {
     "data": {
      "text/plain": [
       "'  sanket  '"
      ]
     },
     "execution_count": 7,
     "metadata": {},
     "output_type": "execute_result"
    }
   ],
   "source": [
    "name.center(10)"
   ]
  },
  {
   "cell_type": "code",
   "execution_count": 9,
   "id": "99e5f402-1092-4acc-b0f9-1da84f017b1e",
   "metadata": {},
   "outputs": [
    {
     "data": {
      "text/plain": [
       "'*******sanket*******'"
      ]
     },
     "execution_count": 9,
     "metadata": {},
     "output_type": "execute_result"
    }
   ],
   "source": [
    "name.center(20,\"*\")"
   ]
  },
  {
   "cell_type": "markdown",
   "id": "c6580eae-d813-45c1-a933-562904504dc4",
   "metadata": {},
   "source": [
    "#  difference between compiler and interpreter"
   ]
  },
  {
   "cell_type": "raw",
   "id": "aa441155-dd98-4cd5-80ca-63c96c180e05",
   "metadata": {},
   "source": [
    "#a compiler translates source code into machine code before the program runs, while an interpreter translates code line-by-line as the program runs"
   ]
  },
  {
   "cell_type": "code",
   "execution_count": 11,
   "id": "b5ccdf66-b02d-4194-82a1-92cdc1538df1",
   "metadata": {},
   "outputs": [],
   "source": [
    "name_=\"sanket gavkari\""
   ]
  },
  {
   "cell_type": "code",
   "execution_count": 12,
   "id": "1a9c9221-d917-4b9a-9071-6414d346796e",
   "metadata": {},
   "outputs": [],
   "source": [
    "_=\"sanket gavkari\""
   ]
  },
  {
   "cell_type": "code",
   "execution_count": 15,
   "id": "a776326a-1cb9-4727-9217-59a2bd1bf84f",
   "metadata": {},
   "outputs": [
    {
     "ename": "SyntaxError",
     "evalue": "cannot assign to literal here. Maybe you meant '==' instead of '='? (3557648131.py, line 1)",
     "output_type": "error",
     "traceback": [
      "\u001b[0;36m  Cell \u001b[0;32mIn[15], line 1\u001b[0;36m\u001b[0m\n\u001b[0;31m    19=\"sanket gavkari\"\u001b[0m\n\u001b[0m    ^\u001b[0m\n\u001b[0;31mSyntaxError\u001b[0m\u001b[0;31m:\u001b[0m cannot assign to literal here. Maybe you meant '==' instead of '='?\n"
     ]
    }
   ],
   "source": [
    "19=\"sanket gavkari\""
   ]
  },
  {
   "cell_type": "code",
   "execution_count": 16,
   "id": "107896f7-a26b-429e-b64f-6d1350a0e0b1",
   "metadata": {},
   "outputs": [],
   "source": [
    "roll_no_19=\"sanket gavkari\""
   ]
  },
  {
   "cell_type": "code",
   "execution_count": 17,
   "id": "bdba9dc3-1f0c-4513-850c-586993e0d827",
   "metadata": {},
   "outputs": [
    {
     "ename": "SyntaxError",
     "evalue": "cannot assign to True (3528652841.py, line 1)",
     "output_type": "error",
     "traceback": [
      "\u001b[0;36m  Cell \u001b[0;32mIn[17], line 1\u001b[0;36m\u001b[0m\n\u001b[0;31m    True=\"sanket gavkari\"\u001b[0m\n\u001b[0m    ^\u001b[0m\n\u001b[0;31mSyntaxError\u001b[0m\u001b[0;31m:\u001b[0m cannot assign to True\n"
     ]
    }
   ],
   "source": [
    "True=\"sanket gavkari\""
   ]
  },
  {
   "cell_type": "code",
   "execution_count": 18,
   "id": "11ce6a0c-36ab-4c9e-b919-87852c0fb571",
   "metadata": {},
   "outputs": [
    {
     "ename": "SyntaxError",
     "evalue": "invalid syntax (1893459107.py, line 1)",
     "output_type": "error",
     "traceback": [
      "\u001b[0;36m  Cell \u001b[0;32mIn[18], line 1\u001b[0;36m\u001b[0m\n\u001b[0;31m    na me=\"sanket gavkari\"\u001b[0m\n\u001b[0m       ^\u001b[0m\n\u001b[0;31mSyntaxError\u001b[0m\u001b[0;31m:\u001b[0m invalid syntax\n"
     ]
    }
   ],
   "source": [
    "na me=\"sanket gavkari\""
   ]
  },
  {
   "cell_type": "code",
   "execution_count": 19,
   "id": "5e7879b4-29c8-4231-a4a5-40c978a3be75",
   "metadata": {},
   "outputs": [],
   "source": [
    "age=18"
   ]
  },
  {
   "cell_type": "code",
   "execution_count": 20,
   "id": "5ae45494-9d2f-499e-b7c4-58c3dcb9693e",
   "metadata": {},
   "outputs": [],
   "source": [
    "Age=19"
   ]
  },
  {
   "cell_type": "code",
   "execution_count": 21,
   "id": "086a97b8-4449-4048-8386-7b559033e295",
   "metadata": {},
   "outputs": [
    {
     "data": {
      "text/plain": [
       "18"
      ]
     },
     "execution_count": 21,
     "metadata": {},
     "output_type": "execute_result"
    }
   ],
   "source": [
    "age"
   ]
  },
  {
   "cell_type": "code",
   "execution_count": 24,
   "id": "811144d9-2923-4eba-a60d-5d890c328798",
   "metadata": {},
   "outputs": [
    {
     "ename": "SyntaxError",
     "evalue": "invalid decimal literal (858260590.py, line 1)",
     "output_type": "error",
     "traceback": [
      "\u001b[0;36m  Cell \u001b[0;32mIn[24], line 1\u001b[0;36m\u001b[0m\n\u001b[0;31m    15_name=\"sanket\"\u001b[0m\n\u001b[0m      ^\u001b[0m\n\u001b[0;31mSyntaxError\u001b[0m\u001b[0;31m:\u001b[0m invalid decimal literal\n"
     ]
    }
   ],
   "source": [
    "15name=\"sanket\""
   ]
  },
  {
   "cell_type": "code",
   "execution_count": 25,
   "id": "6555ee05-6573-409d-bac6-d395ac6c54d8",
   "metadata": {},
   "outputs": [],
   "source": [
    "name15=\"sanket\""
   ]
  },
  {
   "cell_type": "code",
   "execution_count": 40,
   "id": "fbe45e12-ba0e-420d-b378-f6600981c702",
   "metadata": {},
   "outputs": [],
   "source": [
    "a,b,c=23,67,45"
   ]
  },
  {
   "cell_type": "code",
   "execution_count": 41,
   "id": "ed83ca94-01f4-4988-a3ac-bb22657f18aa",
   "metadata": {},
   "outputs": [
    {
     "data": {
      "text/plain": [
       "23"
      ]
     },
     "execution_count": 41,
     "metadata": {},
     "output_type": "execute_result"
    }
   ],
   "source": [
    "a"
   ]
  },
  {
   "cell_type": "code",
   "execution_count": 42,
   "id": "79af91ce-d2d9-4451-bb25-e4459175b2db",
   "metadata": {},
   "outputs": [
    {
     "data": {
      "text/plain": [
       "67"
      ]
     },
     "execution_count": 42,
     "metadata": {},
     "output_type": "execute_result"
    }
   ],
   "source": [
    "b"
   ]
  },
  {
   "cell_type": "code",
   "execution_count": 43,
   "id": "d50404a8-49cc-41ab-96be-59faad773e53",
   "metadata": {},
   "outputs": [
    {
     "data": {
      "text/plain": [
       "45"
      ]
     },
     "execution_count": 43,
     "metadata": {},
     "output_type": "execute_result"
    }
   ],
   "source": [
    "c"
   ]
  },
  {
   "cell_type": "code",
   "execution_count": 44,
   "id": "6ab8f670-be13-4c84-a3c0-0dd4ac8e1bae",
   "metadata": {},
   "outputs": [
    {
     "name": "stdout",
     "output_type": "stream",
     "text": [
      "67\n"
     ]
    }
   ],
   "source": [
    "print(b)"
   ]
  },
  {
   "cell_type": "code",
   "execution_count": 45,
   "id": "9440dce8-0b6e-44d8-9ce3-6b7580c81596",
   "metadata": {},
   "outputs": [
    {
     "name": "stdout",
     "output_type": "stream",
     "text": [
      "sanket gavkari\n"
     ]
    }
   ],
   "source": [
    "#library function or in-built function\n",
    "print(\"sanket gavkari\")"
   ]
  },
  {
   "cell_type": "code",
   "execution_count": 46,
   "id": "08a2a7db-978a-43e5-ba86-afc77ab76c28",
   "metadata": {},
   "outputs": [
    {
     "name": "stdout",
     "output_type": "stream",
     "text": [
      "23\n",
      "a\n"
     ]
    }
   ],
   "source": [
    "print(a)\n",
    "print(\"a\")"
   ]
  },
  {
   "cell_type": "code",
   "execution_count": 47,
   "id": "0b3db268-c324-44f7-9aac-9f362c5dc592",
   "metadata": {},
   "outputs": [
    {
     "name": "stdout",
     "output_type": "stream",
     "text": [
      "23 67 45\n"
     ]
    }
   ],
   "source": [
    "print(a,b,c)"
   ]
  },
  {
   "cell_type": "code",
   "execution_count": 49,
   "id": "0cc445ec-703e-4fd6-ad73-65fb442d11f8",
   "metadata": {},
   "outputs": [
    {
     "name": "stdout",
     "output_type": "stream",
     "text": [
      "23,67,45\n"
     ]
    }
   ],
   "source": [
    "#o/p-->23,67,45\n",
    "print(23,67,45,sep=\",\")"
   ]
  },
  {
   "cell_type": "code",
   "execution_count": 50,
   "id": "54d707bb-b05f-453b-8e2a-08ef55041ed1",
   "metadata": {},
   "outputs": [],
   "source": [
    "name=\"sanket gavkari\""
   ]
  },
  {
   "cell_type": "code",
   "execution_count": 51,
   "id": "15ed2b65-868d-4a53-8a7a-6801ce74b703",
   "metadata": {},
   "outputs": [
    {
     "data": {
      "text/plain": [
       "str"
      ]
     },
     "execution_count": 51,
     "metadata": {},
     "output_type": "execute_result"
    }
   ],
   "source": [
    "type(name)"
   ]
  },
  {
   "cell_type": "code",
   "execution_count": 52,
   "id": "58c3cf69-5b9c-441e-b0cc-6854588431be",
   "metadata": {},
   "outputs": [],
   "source": [
    "name1='sanket gavkari'"
   ]
  },
  {
   "cell_type": "code",
   "execution_count": 53,
   "id": "30ffa415-25c9-48a9-8bb3-c83c21f9fece",
   "metadata": {},
   "outputs": [
    {
     "data": {
      "text/plain": [
       "str"
      ]
     },
     "execution_count": 53,
     "metadata": {},
     "output_type": "execute_result"
    }
   ],
   "source": [
    "type(name)"
   ]
  },
  {
   "cell_type": "code",
   "execution_count": 57,
   "id": "5bfe925b-2247-49f6-b083-c3481d78ef80",
   "metadata": {},
   "outputs": [
    {
     "ename": "SyntaxError",
     "evalue": "invalid syntax (835177973.py, line 1)",
     "output_type": "error",
     "traceback": [
      "\u001b[0;36m  Cell \u001b[0;32mIn[57], line 1\u001b[0;36m\u001b[0m\n\u001b[0;31m    name4=\"\"sanket gavkari\"\"\u001b[0m\n\u001b[0m            ^\u001b[0m\n\u001b[0;31mSyntaxError\u001b[0m\u001b[0;31m:\u001b[0m invalid syntax\n"
     ]
    }
   ],
   "source": [
    "name4=\"\"sanket gavkari\"\""
   ]
  },
  {
   "cell_type": "code",
   "execution_count": 54,
   "id": "b1071a34-2900-4855-bfc7-f48ed47a14b6",
   "metadata": {},
   "outputs": [],
   "source": [
    "name2=\"\"\"sanket gavkari\"\"\""
   ]
  },
  {
   "cell_type": "code",
   "execution_count": 55,
   "id": "50067039-17b5-4521-bd14-7efc8610dfd3",
   "metadata": {},
   "outputs": [
    {
     "data": {
      "text/plain": [
       "str"
      ]
     },
     "execution_count": 55,
     "metadata": {},
     "output_type": "execute_result"
    }
   ],
   "source": [
    "type(name2)"
   ]
  },
  {
   "cell_type": "code",
   "execution_count": 56,
   "id": "85927ba4-e0a8-4e0c-a5c3-2b61ebd5b514",
   "metadata": {},
   "outputs": [
    {
     "ename": "SyntaxError",
     "evalue": "unterminated string literal (detected at line 1) (3946506654.py, line 1)",
     "output_type": "error",
     "traceback": [
      "\u001b[0;36m  Cell \u001b[0;32mIn[56], line 1\u001b[0;36m\u001b[0m\n\u001b[0;31m    name3=\"\"\"\"sanket gavkari\"\"\"\"\u001b[0m\n\u001b[0m                               ^\u001b[0m\n\u001b[0;31mSyntaxError\u001b[0m\u001b[0;31m:\u001b[0m unterminated string literal (detected at line 1)\n"
     ]
    }
   ],
   "source": [
    "name3=\"\"\"\"sanket gavkari\"\"\"\""
   ]
  },
  {
   "cell_type": "code",
   "execution_count": 58,
   "id": "4bcfd9a5-a246-4e7e-b5ea-b5648aad7ecc",
   "metadata": {},
   "outputs": [],
   "source": [
    "name5='''sanket gavkari'''"
   ]
  },
  {
   "cell_type": "code",
   "execution_count": 59,
   "id": "2023e64b-34d5-4ad9-bc42-457c6ac8a84a",
   "metadata": {},
   "outputs": [
    {
     "data": {
      "text/plain": [
       "str"
      ]
     },
     "execution_count": 59,
     "metadata": {},
     "output_type": "execute_result"
    }
   ],
   "source": [
    "type(name5)"
   ]
  },
  {
   "cell_type": "code",
   "execution_count": 60,
   "id": "41f7922e-59c3-4996-aeb4-e5b491ef11ea",
   "metadata": {},
   "outputs": [],
   "source": [
    "# single quote in string is allowed,\n",
    "# double quote in string is allowed"
   ]
  },
  {
   "cell_type": "code",
   "execution_count": 68,
   "id": "586d1f27-31f6-4bda-b6e4-7ed9e3417463",
   "metadata": {},
   "outputs": [
    {
     "name": "stdout",
     "output_type": "stream",
     "text": [
      "sanket gavkari\tsanket gavkari\t"
     ]
    }
   ],
   "source": [
    "print(\"sanket gavkari\", end=\"\\t\")\n",
    "print(\"sanket gavkari\", end=\"\\t\")"
   ]
  },
  {
   "cell_type": "code",
   "execution_count": 62,
   "id": "fb7bc1ec-e01a-4db6-813f-a8a3c6b8cd79",
   "metadata": {},
   "outputs": [
    {
     "ename": "SyntaxError",
     "evalue": "unterminated string literal (detected at line 1) (181391543.py, line 1)",
     "output_type": "error",
     "traceback": [
      "\u001b[0;36m  Cell \u001b[0;32mIn[62], line 1\u001b[0;36m\u001b[0m\n\u001b[0;31m    print(\"sanket\u001b[0m\n\u001b[0m          ^\u001b[0m\n\u001b[0;31mSyntaxError\u001b[0m\u001b[0;31m:\u001b[0m unterminated string literal (detected at line 1)\n"
     ]
    }
   ],
   "source": [
    "print(\"sanket\n",
    "gavkari\")"
   ]
  },
  {
   "cell_type": "code",
   "execution_count": null,
   "id": "c3c80744-adf5-4a2b-a744-5f09519907ae",
   "metadata": {},
   "outputs": [],
   "source": []
  }
 ],
 "metadata": {
  "kernelspec": {
   "display_name": "Python 3 (ipykernel)",
   "language": "python",
   "name": "python3"
  },
  "language_info": {
   "codemirror_mode": {
    "name": "ipython",
    "version": 3
   },
   "file_extension": ".py",
   "mimetype": "text/x-python",
   "name": "python",
   "nbconvert_exporter": "python",
   "pygments_lexer": "ipython3",
   "version": "3.12.4"
  }
 },
 "nbformat": 4,
 "nbformat_minor": 5
}
